{
 "cells": [
  {
   "cell_type": "markdown",
   "id": "74ef33d4",
   "metadata": {},
   "source": [
    "\n",
    "# Лабораторная работа №6 «Решение параболических уравнений»"
   ]
  },
  {
   "cell_type": "markdown",
   "id": "521be45e",
   "metadata": {},
   "source": [
    "## Трегуб Екатерина Сергеевна"
   ]
  },
  {
   "cell_type": "code",
   "execution_count": 1,
   "id": "f0c3c4cc",
   "metadata": {},
   "outputs": [],
   "source": [
    "import numpy as np\n",
    "import math as m\n",
    "%matplotlib notebook\n",
    "import matplotlib.pyplot as plt"
   ]
  },
  {
   "cell_type": "code",
   "execution_count": 3,
   "id": "fb152ed4",
   "metadata": {},
   "outputs": [],
   "source": [
    "def fi(x):\n",
    "    return x**x;\n",
    "\n",
    "def psi0(t):\n",
    "    return t**t;\n",
    "\n",
    "def psi1(t):\n",
    "    return t"
   ]
  },
  {
   "cell_type": "code",
   "execution_count": 4,
   "id": "b7f90930",
   "metadata": {},
   "outputs": [],
   "source": [
    "def upper_left_point(u_ld, u_md, u_rd, a, h, tau):\n",
    "    return U_md + a ** 2 * tau / h ** 2 * (U_rd - 2 * U_md + U_ld)"
   ]
  },
  {
   "cell_type": "code",
   "execution_count": 5,
   "id": "e637209f",
   "metadata": {},
   "outputs": [],
   "source": [
    "def solve(N, L, h, tau, a, fi, psi0, psi1, upper_left_point):\n",
    "    \n",
    "    solution = np.zeros((N, L))\n",
    "\n",
    "    for i in range(L):\n",
    "        solution[0][i] = fi(i * h)\n",
    "    \n",
    "    for i in range(N):\n",
    "        solution[i][0] = psi0(i * tau)\n",
    "        solution[i][-1] = psi1(i * tau)\n",
    "    \n",
    "    for i in range(1, N):\n",
    "        for j in range(1, L - 1):\n",
    "            solution[i][j] = upper_left_point(solution[i - 1][j - 1], solution[i - 1][j], solution[i - 1][j + 1], a, h, tau)\n",
    "    \n",
    "    return solution"
   ]
  },
  {
   "cell_type": "code",
   "execution_count": null,
   "id": "1988c0c4",
   "metadata": {},
   "outputs": [],
   "source": []
  }
 ],
 "metadata": {
  "kernelspec": {
   "display_name": "Python 3 (ipykernel)",
   "language": "python",
   "name": "python3"
  },
  "language_info": {
   "codemirror_mode": {
    "name": "ipython",
    "version": 3
   },
   "file_extension": ".py",
   "mimetype": "text/x-python",
   "name": "python",
   "nbconvert_exporter": "python",
   "pygments_lexer": "ipython3",
   "version": "3.8.10"
  }
 },
 "nbformat": 4,
 "nbformat_minor": 5
}
